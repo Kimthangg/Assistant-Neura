{
 "cells": [
  {
   "cell_type": "code",
   "execution_count": 2,
   "id": "e2b4cc61",
   "metadata": {},
   "outputs": [
    {
     "data": {
      "text/plain": [
       "datetime.datetime(2025, 4, 16, 15, 54, 7, 50121, tzinfo=<DstTzInfo 'Asia/Ho_Chi_Minh' +07+7:00:00 STD>)"
      ]
     },
     "execution_count": 2,
     "metadata": {},
     "output_type": "execute_result"
    }
   ],
   "source": [
    "import sys\n",
    "import os\n",
    "sys.path.append(os.path.abspath(os.path.join(os.getcwd(), \"..\")))\n",
    "\n",
    "from utils import *\n",
    "weekdays = get_weekdays_context()\n",
    "get_valid_weekday(weekdays[2])\n"
   ]
  }
 ],
 "metadata": {
  "kernelspec": {
   "display_name": "vertexAI",
   "language": "python",
   "name": "python3"
  },
  "language_info": {
   "codemirror_mode": {
    "name": "ipython",
    "version": 3
   },
   "file_extension": ".py",
   "mimetype": "text/x-python",
   "name": "python",
   "nbconvert_exporter": "python",
   "pygments_lexer": "ipython3",
   "version": "3.11.11"
  }
 },
 "nbformat": 4,
 "nbformat_minor": 5
}
